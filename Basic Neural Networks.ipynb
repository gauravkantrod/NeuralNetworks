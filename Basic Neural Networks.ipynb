{
 "cells": [
  {
   "cell_type": "code",
   "execution_count": 15,
   "metadata": {},
   "outputs": [],
   "source": [
    "import numpy as np\n",
    "import matplotlib.pyplot as plt"
   ]
  },
  {
   "cell_type": "code",
   "execution_count": 16,
   "metadata": {},
   "outputs": [],
   "source": [
    "data = [[3,   1.5, 1],\n",
    "        [2,   1,   0],\n",
    "        [4,   1.5, 1],\n",
    "        [3,   1,   0],\n",
    "        [3.5, .5,  1],\n",
    "        [2,   .5,  0],\n",
    "        [5.5,  1,  1],\n",
    "        [1,    1,  0]]\n",
    "\n",
    "mystery_flower = [4.5, 1]"
   ]
  },
  {
   "cell_type": "code",
   "execution_count": 75,
   "metadata": {},
   "outputs": [
    {
     "data": {
      "image/png": "[encoded data removed]",
      "text/plain": [
       "<Figure size 432x288 with 1 Axes>"
      ]
     },
     "metadata": {
      "needs_background": "light"
     },
     "output_type": "display_data"
    }
   ],
   "source": [
    "for i in range(len(data)):\n",
    "    if data[i][2] == 1:\n",
    "        color = 'BLUE'\n",
    "        plt.scatter(data[i][0], data[i][1], c = color)\n",
    "    else:\n",
    "        color = 'YELLOW'\n",
    "        plt.scatter(data[i][0], data[i][1], c = color)\n",
    "        \n",
    "plt.scatter(mystery_flower[0], mystery_flower[1], color = 'BLACK')\n",
    "plt.show()"
   ]
  },
  {
   "cell_type": "code",
   "execution_count": 27,
   "metadata": {},
   "outputs": [],
   "source": [
    "def sigmoid(x):\n",
    "    return 1/(1+np.exp(-x))"
   ]
  },
  {
   "cell_type": "code",
   "execution_count": 28,
   "metadata": {},
   "outputs": [],
   "source": [
    "def sigmoid_p(x):\n",
    "    return sigmoid(x) *(1-sigmoid(x))"
   ]
  },
  {
   "cell_type": "code",
   "execution_count": 70,
   "metadata": {},
   "outputs": [],
   "source": [
    "def train():\n",
    "    # initilization of weights\n",
    "    w1 = np.random.randn()\n",
    "    w2 = np.random.randn()\n",
    "    b = np.random.randn()\n",
    "    \n",
    "    \n",
    "    iteration = 100000\n",
    "    learning_rate = 0.01\n",
    "    \n",
    "    costs = []\n",
    "    \n",
    "    for i in range(iteration):\n",
    "        ri = np.random.randint(len(data))\n",
    "        data_point = data[ri] \n",
    "    \n",
    "        z = w1*data_point[0] + w2*data_point[1] + b\n",
    "        #network prediction\n",
    "        pred = sigmoid(z)\n",
    "        \n",
    "        target = data_point[2]\n",
    "        \n",
    "        cost = np.square(pred - data_point[2])\n",
    "        \n",
    "        \n",
    "        if i % 100 == 0:\n",
    "            c = 0\n",
    "            for j in range(len(data)):\n",
    "                p = data[j]\n",
    "                p_pred = sigmoid(w1 * p[0] + w2 * p[1] + b)\n",
    "                c += np.square(p_pred - p[2])\n",
    "            costs.append(c)\n",
    "        \n",
    "       # 2 * (pred - target) * sigmoid_p(z) * point[0]\n",
    "        \n",
    "        w1 = w1 - learning_rate * (2 * (pred - data_point[2]) * sigmoid_p(z) * data_point[0])\n",
    "        w2 = w2 - learning_rate * (2 * (pred - data_point[2]) * sigmoid_p(z) * data_point[1])\n",
    "        b = b - learning_rate * (2 * (pred - data_point[2]) * sigmoid_p(z) * 1)\n",
    "        \n",
    "    return costs, w1, w2, b\n",
    "        \n",
    "costs, w1, w2, b = train()\n"
   ]
  },
  {
   "cell_type": "code",
   "execution_count": 74,
   "metadata": {},
   "outputs": [
    {
     "data": {
      "image/png": "[encoded data removed]",
      "text/plain": [
       "<Figure size 432x288 with 1 Axes>"
      ]
     },
     "metadata": {
      "needs_background": "light"
     },
     "output_type": "display_data"
    }
   ],
   "source": [
    "plt.plot(costs)\n",
    "plt.show()"
   ]
  },
  {
   "cell_type": "code",
   "execution_count": 72,
   "metadata": {},
   "outputs": [
    {
     "data": {
      "text/plain": [
       "0.9830895577041429"
      ]
     },
     "execution_count": 72,
     "metadata": {},
     "output_type": "execute_result"
    }
   ],
   "source": [
    "z = w1*mystery_flower[0] + w2*mystery_flower[1] + b\n",
    "pred = sigmoid(z)\n",
    "pred\n"
   ]
  },
  {
   "cell_type": "code",
   "execution_count": 77,
   "metadata": {},
   "outputs": [
    {
     "data": {
      "image/png": "[encoded data removed]",
      "text/plain": [
       "<Figure size 432x288 with 1 Axes>"
      ]
     },
     "metadata": {
      "needs_background": "light"
     },
     "output_type": "display_data"
    }
   ],
   "source": [
    "for x in np.linspace(0,6,20):\n",
    "    for y in np.linspace(0,3,20):\n",
    "        z = sigmoid(x*w1 + y*w2 + b)\n",
    "        c = 'blue'\n",
    "        if z > 0.5:\n",
    "            c = 'red'\n",
    "        plt.scatter(x,y,c=c, alpha = 0.2)"
   ]
  },
  {
   "cell_type": "code",
   "execution_count": null,
   "metadata": {},
   "outputs": [],
   "source": []
  }
 ],
 "metadata": {
  "kernelspec": {
   "display_name": "Python 3",
   "language": "python",
   "name": "python3"
  },
  "language_info": {
   "codemirror_mode": {
    "name": "ipython",
    "version": 3
   },
   "file_extension": ".py",
   "mimetype": "text/x-python",
   "name": "python",
   "nbconvert_exporter": "python",
   "pygments_lexer": "ipython3",
   "version": "3.7.3"
  }
 },
 "nbformat": 4,
 "nbformat_minor": 2
}
